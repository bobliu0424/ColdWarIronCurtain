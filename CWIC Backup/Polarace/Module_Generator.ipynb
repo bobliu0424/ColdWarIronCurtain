{
 "cells": [
  {
   "cell_type": "code",
   "execution_count": 76,
   "metadata": {},
   "outputs": [],
   "source": []
  },
  {
   "cell_type": "code",
   "execution_count": 77,
   "metadata": {},
   "outputs": [
    {
     "data": {
      "text/plain": [
       "Index(['name', 'year', 'abbreviation', 'category', 'sfx', 'xp_cost',\n",
       "       'dismantle_cost', 'allow_equipment_type',\n",
       "       'forbid_equipment_type_exact_match', 'parent', 'reliability_a',\n",
       "       'soft_attack_a', 'hard_attack_a', 'piercing_a', 'breakthrough_a',\n",
       "       'defense_a', 'hardness_a', 'armor_a', 'speed_a', 'build_cost_a',\n",
       "       'fuel_capacity_a', 'fuel_consumption_a', 'air_attack_a',\n",
       "       'reliability_m', 'soft_attack_m', 'hard_attack_m', 'piercing_m',\n",
       "       'breakthrough_m', 'defense_m', 'hardness_m', 'armor_m', 'speed_m',\n",
       "       'build_cost_m', 'fuel_capacity_m', 'fuel_consumption_m', 'air_attack_m',\n",
       "       'module_category', 'convert_cost_ic', 'steel', 'tungsten_r',\n",
       "       'chromium_r', 'rubber_r'],\n",
       "      dtype='object')"
      ]
     },
     "execution_count": 77,
     "metadata": {},
     "output_type": "execute_result"
    }
   ],
   "source": []
  },
  {
   "cell_type": "code",
   "execution_count": 88,
   "metadata": {},
   "outputs": [
    {
     "name": "stdout",
     "output_type": "stream",
     "text": [
      "\n",
      "    tank_light_cannon0 = {\n",
      "        #Year: 1945\n",
      "        abbreviation = \"lc1\"\n",
      "        category = tank_small_main_armament\n",
      "        sfx = sfx_ui_sd_module_turret\n",
      "        \n",
      "        \n",
      "        add_stats = {\n",
      "            \n",
      "        }\n",
      "        multiply_stats = {\n",
      "            \n",
      "        }\n",
      "\n",
      "        xp_cost = 1\n",
      "        dismantle_cost_ic = 1\n",
      "        \n",
      "        can_convert_from = {\n",
      "            module_category = Penut\n",
      "            convert_cost_ic = 5\n",
      "        }\n",
      "\n",
      "        build_cost_resources = {\n",
      "            \n",
      "        }\n",
      "    }\n",
      "    \n"
     ]
    }
   ],
   "source": [
    "import pandas as pd\n",
    "\n",
    "df = pd.read_excel('C:/Users/Luke/Documents/GitHub/ColdWarIronCurtain/CWIC Backup/Polarace/~Test.xlsx', header=1)\n",
    "\n",
    "df.columns = df.columns.str.strip().str.lower().str.replace(' ', '_').str.replace('(', '').str.replace(')', '')\n",
    "\n",
    "def generate_template_code(row):\n",
    "    add_stats = []\n",
    "    multiply_stats = []\n",
    "    resource_stats = []\n",
    "\n",
    "    for col in row.index:\n",
    "        if pd.notna(row[col]):  # Check for NaN values and skip if NaN\n",
    "            if col.endswith('_a'):\n",
    "                stat_name = col[:-2]\n",
    "                add_stats.append(f\"{stat_name} = {row[col]}\")\n",
    "            elif col.endswith('_m'):\n",
    "                stat_name = col[:-2]\n",
    "                multiply_stats.append(f\"{stat_name} = {row[col]}\")\n",
    "            elif col.endswith('_r'):\n",
    "                stat_name = col[:-2]\n",
    "                resource_stats.append(f\"{stat_name} = {row[col]}\")\n",
    "\n",
    "    optional_fields = []\n",
    "    if pd.notna(row['allow_equipment_type']):\n",
    "        optional_fields.append(f'allow_equipment_type = {row[\"allow_equipment_type\"]}')\n",
    "    if pd.notna(row['forbid_equipment_type_exact_match']):\n",
    "        optional_fields.append(f'forbid_equipment_type_exact_match = {row[\"forbid_equipment_type_exact_match\"]}')\n",
    "    if pd.notna(row['parent']):\n",
    "        optional_fields.append(f'parent = {row[\"parent\"]}')\n",
    "\n",
    "    optional_fields_str = '\\n        '.join(optional_fields)\n",
    "\n",
    "    add_stats_str = '\\n            '.join(add_stats)\n",
    "    multiply_stats_str = '\\n            '.join(multiply_stats)\n",
    "    resource_stats_str = '\\n            '.join(resource_stats)\n",
    "\n",
    "    can_convert_from_str = ''\n",
    "    if pd.notna(row['module_category']) and pd.notna(row['convert_cost_ic']):\n",
    "        can_convert_from_str = f\"\"\"\n",
    "        can_convert_from = {{\n",
    "            module_category = {row['module_category']}\n",
    "            convert_cost_ic = {row['convert_cost_ic']}\n",
    "        }}\"\"\"\n",
    "\n",
    "    template = f\"\"\"\n",
    "    {row['name']} = {{\n",
    "        #Year: {int(row['year'])}\n",
    "        abbreviation = \"{row['abbreviation']}\"\n",
    "        category = {row['category']}\n",
    "        sfx = {row['sfx']}\n",
    "        {optional_fields_str if optional_fields_str else ''}\n",
    "\n",
    "        add_stats = {{\n",
    "            {add_stats_str}\n",
    "        }}\n",
    "        multiply_stats = {{\n",
    "            {multiply_stats_str}\n",
    "        }}\n",
    "\n",
    "        xp_cost = {row['xp_cost']}\n",
    "        dismantle_cost_ic = {row['dismantle_cost']}\n",
    "        {can_convert_from_str}\n",
    "\n",
    "        build_cost_resources = {{\n",
    "            {resource_stats_str}\n",
    "        }}\n",
    "    }}\n",
    "    \"\"\"\n",
    "    return template\n",
    "\n",
    "# Generate the template code for each row\n",
    "for index, row in df.iterrows():\n",
    "    print(generate_template_code(row))"
   ]
  }
 ],
 "metadata": {
  "kernelspec": {
   "display_name": "honours",
   "language": "python",
   "name": "python3"
  },
  "language_info": {
   "codemirror_mode": {
    "name": "ipython",
    "version": 3
   },
   "file_extension": ".py",
   "mimetype": "text/x-python",
   "name": "python",
   "nbconvert_exporter": "python",
   "pygments_lexer": "ipython3",
   "version": "3.11.6"
  }
 },
 "nbformat": 4,
 "nbformat_minor": 2
}
